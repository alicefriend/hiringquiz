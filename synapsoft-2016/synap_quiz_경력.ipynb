{
 "cells": [
  {
   "cell_type": "raw",
   "metadata": {},
   "source": [
    "채용 퀴즈 - 개발 경력\n",
    "\n",
    "1/N 모양의 분수를 소수로 나타내어 봅시다.\n",
    "1/2 = 0.5 \n",
    "1/3 = 0.333333... \n",
    "1/4 = 0.25 \n",
    "1/5 = 0.2 \n",
    "1/6 = 0.166666... \n",
    "1/7 = 0.142857142857... \n",
    "1/99 = 0.01010101010...\n",
    "위에서 보듯이, 분모가 3, 6, 7, 99 등일 때는 소수점 아래에 같은 숫자가 계속 반복됩니다. \n",
    "1/2 부터 1/100 까지 이렇게 했을 때, 분모 및 반복되는 부분을 출력하는 프로그램을 작성하세요. \n",
    "(분모가 2, 4, 5일 때처럼 딱 떨어지는 경우는 출력하지 않습니다) \n",
    "3 3 \n",
    "6 6 \n",
    "7 142857 \n",
    "9 1 \n",
    "...(중략)... \n",
    "98 102040816326530612244897959183673469387755 \n",
    "99 10\n",
    "프로그래밍 언어에 제약은 없지만, 외부 라이브러리는 사용하지 마세요."
   ]
  },
  {
   "cell_type": "code",
   "execution_count": 4,
   "metadata": {
    "collapsed": false
   },
   "outputs": [],
   "source": [
    "def solve(denominator):\n",
    "    \n",
    "    #1 job for getting length of not recurring part\n",
    "    factor_2, factor_5 = 0, 0\n",
    "    reduction = denominator\n",
    "    while (reduction % 2 == 0) or (reduction % 5 == 0):\n",
    "        if reduction % 2 == 0:\n",
    "            factor_2 += 1\n",
    "            reduction = int(reduction / 2)\n",
    "        if reduction % 5 == 0:\n",
    "            factor_5 += 1\n",
    "            reduction = int(reduction / 5)\n",
    "    \n",
    "    length_not_recur = factor_2 if factor_2 > factor_5 else factor_5\n",
    "    \n",
    "\n",
    "    # if there's no recurring part, end function\n",
    "    if reduction == 1:\n",
    "        return\n",
    "    \n",
    "    \n",
    "    #2 job for getting length of recurring part\n",
    "    length_recur = 1\n",
    "    while True:\n",
    "        if (10**length_recur - 1) % reduction == 0: break\n",
    "        length_recur += 1\n",
    "        \n",
    "        \n",
    "    #3 getting recurring part number\n",
    "    numerator = 1\n",
    "    rest = numerator\n",
    "    digit = []\n",
    "    \n",
    "    for i in range(length_not_recur):\n",
    "        rest *= 10\n",
    "        rest %= denominator\n",
    "        \n",
    "    for i in range(length_recur):\n",
    "        rest *= 10\n",
    "        share = str(int(rest / denominator))\n",
    "        digit.append(share)\n",
    "        rest %= denominator\n",
    "    \n",
    "    answer = ''.join(digit)\n",
    "    print(denominator, answer)"
   ]
  },
  {
   "cell_type": "raw",
   "metadata": {},
   "source": [
    "== Test Case ==\n",
    "\n",
    "3 3 \n",
    "6 6 \n",
    "7 142857 \n",
    "9 1 \n",
    "98 102040816326530612244897959183673469387755 \n",
    "99 01"
   ]
  },
  {
   "cell_type": "code",
   "execution_count": 5,
   "metadata": {
    "collapsed": false
   },
   "outputs": [
    {
     "name": "stdout",
     "output_type": "stream",
     "text": [
      "3 3\n",
      "6 6\n",
      "7 142857\n",
      "9 1\n",
      "98 102040816326530612244897959183673469387755\n",
      "99 01\n"
     ]
    }
   ],
   "source": [
    "# Execute Result \n",
    "\n",
    "solve(3)\n",
    "solve(6)\n",
    "solve(7)\n",
    "solve(9)\n",
    "solve(98)\n",
    "solve(99)"
   ]
  },
  {
   "cell_type": "raw",
   "metadata": {},
   "source": [
    "Summary\n",
    "\n",
    "입력             : denominator N,\n",
    "Time Complexity : 비순환마디 길이 L1, 순환마디 길이 L2 라 할 때\n",
    "                  Big O(log(N) + L1 + L2 + L2^2)\n",
    "                  \n",
    "                  solve()함수 #2 part while 루프에서 10의 제곱근 값들을 상수로 미리 저장할 경우\n",
    "                  Big O(log(N) + L1 + L2)"
   ]
  }
 ],
 "metadata": {
  "anaconda-cloud": {},
  "kernelspec": {
   "display_name": "Python [Root]",
   "language": "python",
   "name": "Python [Root]"
  },
  "language_info": {
   "codemirror_mode": {
    "name": "ipython",
    "version": 3
   },
   "file_extension": ".py",
   "mimetype": "text/x-python",
   "name": "python",
   "nbconvert_exporter": "python",
   "pygments_lexer": "ipython3",
   "version": "3.5.2"
  }
 },
 "nbformat": 4,
 "nbformat_minor": 0
}
